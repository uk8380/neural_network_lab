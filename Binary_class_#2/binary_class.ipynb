{
  "nbformat": 4,
  "nbformat_minor": 0,
  "metadata": {
    "colab": {
      "name": "binary_class.ipynb",
      "provenance": []
    },
    "kernelspec": {
      "name": "python3",
      "display_name": "Python 3"
    },
    "language_info": {
      "name": "python"
    }
  },
  "cells": [
    {
      "cell_type": "code",
      "execution_count": 1,
      "metadata": {
        "colab": {
          "base_uri": "https://localhost:8080/",
          "height": 404
        },
        "id": "19Qze3UhYreJ",
        "outputId": "79ebf67c-d55b-4fbd-a65d-ee9e54bf1a90"
      },
      "outputs": [
        {
          "output_type": "stream",
          "name": "stdout",
          "text": [
            "(10, 2) (10,)\n",
            "Counter({1: 5, 0: 5})\n",
            "[-10.17014071  -4.83120697] 1\n",
            "[-11.09833168  -2.80862484] 1\n",
            "[-9.95549876 -3.37053333] 1\n",
            "[-8.86394306 -5.05323981] 1\n",
            "[0.08525186 3.64528297] 0\n"
          ]
        },
        {
          "output_type": "execute_result",
          "data": {
            "text/plain": [
              "<matplotlib.legend.Legend at 0x7fad81198790>"
            ]
          },
          "metadata": {},
          "execution_count": 1
        },
        {
          "output_type": "display_data",
          "data": {
            "text/plain": [
              "<Figure size 432x288 with 1 Axes>"
            ],
            "image/png": "[encoded data removed]"
          },
          "metadata": {
            "needs_background": "light"
          }
        }
      ],
      "source": [
        "from numpy import where\n",
        "from collections import Counter\n",
        "from sklearn.datasets import make_blobs\n",
        "from matplotlib import pyplot\n",
        "X,y=make_blobs(n_samples=10,centers=2,random_state=1)\n",
        "print(X.shape,y.shape)\n",
        "counter=Counter(y)\n",
        "print(counter)\n",
        "for i in range(5):\n",
        "    print(X[i],y[i])\n",
        "for label,_ in counter.items():\n",
        "    row_ix=where(y==label)[0]\n",
        "    pyplot.scatter(X[row_ix,0],X[row_ix,1],label=str(label))\n",
        "pyplot.legend()"
      ]
    },
    {
      "cell_type": "code",
      "source": [
        ""
      ],
      "metadata": {
        "id": "pKq0XiICYvse"
      },
      "execution_count": null,
      "outputs": []
    }
  ]
}